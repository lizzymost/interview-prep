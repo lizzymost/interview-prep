{
 "cells": [
  {
   "cell_type": "markdown",
   "metadata": {},
   "source": [
    "<h3> Mock Interview Python Screening test </h3>\n"
   ]
  },
  {
   "cell_type": "code",
   "execution_count": 3,
   "metadata": {},
   "outputs": [],
   "source": [
    "import pandas as pd\n",
    "import matplotlib as mpl\n",
    "import matplotlib.pyplot as plt\n",
    "dataframe = pd.read_csv(\"adult_census_data.csv\",index_col=0)"
   ]
  },
  {
   "cell_type": "code",
   "execution_count": 4,
   "metadata": {},
   "outputs": [
    {
     "name": "stdout",
     "output_type": "stream",
     "text": [
      "<class 'pandas.core.frame.DataFrame'>\n",
      "Int64Index: 32560 entries, 50 to 52\n",
      "Data columns (total 14 columns):\n",
      " #   Column          Non-Null Count  Dtype \n",
      "---  ------          --------------  ----- \n",
      " 0    State-gov      32560 non-null  object\n",
      " 1    77516          32560 non-null  int64 \n",
      " 2    Bachelors      32560 non-null  object\n",
      " 3    13             32560 non-null  int64 \n",
      " 4    Never-married  32560 non-null  object\n",
      " 5    Adm-clerical   32560 non-null  object\n",
      " 6    Not-in-family  32560 non-null  object\n",
      " 7    White          32560 non-null  object\n",
      " 8    Male           32560 non-null  object\n",
      " 9    2174           32560 non-null  int64 \n",
      " 10   0              32560 non-null  int64 \n",
      " 11   40             32560 non-null  int64 \n",
      " 12   United-States  32560 non-null  object\n",
      " 13   <=50K          32560 non-null  object\n",
      "dtypes: int64(5), object(9)\n",
      "memory usage: 3.7+ MB\n",
      "None\n"
     ]
    }
   ],
   "source": [
    "\n",
    "print(dataframe.info())\n"
   ]
  },
  {
   "cell_type": "markdown",
   "metadata": {},
   "source": [
    "<b> Q1. After importing the adult_census_data.csv file, please filter this to include only the following criteria: </b>\n",
    "<p>\n",
    "\n",
    "<li> State-Gov</li>\n",
    "<li> Bachelors </li>\n",
    "<li> Never-Married </li>\n",
    "<li> Adm-Clerical </li> \n",
    "<li> Not-in-familiy </li>\n",
    "<li> White </li>\n",
    "<li> Male </li> \n",
    "<li> United States </li>\n",
    "<li> <=50K </li> \n",
    "\n",
    "<b> Feel free to any method to complete this tasks. However, we recommend you use either list filtering [], or .loc to complete this task.</b>"
   ]
  },
  {
   "cell_type": "markdown",
   "metadata": {},
   "source": [
    "<b> Put your code below </b>"
   ]
  },
  {
   "cell_type": "code",
   "execution_count": 5,
   "metadata": {},
   "outputs": [
    {
     "name": "stdout",
     "output_type": "stream",
     "text": [
      "<class 'pandas.core.frame.DataFrame'>\n",
      "Int64Index: 32560 entries, 50 to 52\n",
      "Data columns (total 9 columns):\n",
      " #   Column          Non-Null Count  Dtype \n",
      "---  ------          --------------  ----- \n",
      " 0    State-gov      32560 non-null  object\n",
      " 1    Bachelors      32560 non-null  object\n",
      " 2    Never-married  32560 non-null  object\n",
      " 3    Adm-clerical   32560 non-null  object\n",
      " 4    White          32560 non-null  object\n",
      " 5    Male           32560 non-null  object\n",
      " 6    United-States  32560 non-null  object\n",
      " 7    <=50K          32560 non-null  object\n",
      " 8    Not-in-family  32560 non-null  object\n",
      "dtypes: object(9)\n",
      "memory usage: 2.5+ MB\n",
      "None\n"
     ]
    }
   ],
   "source": [
    "df2=dataframe.loc[:,[\" State-gov\",\" Bachelors\", \" Never-married\",\" Adm-clerical\", \" White\", \" Male\", \" United-States\", \" <=50K\",\" Not-in-family\" ]]\n",
    "print(df2.info())"
   ]
  },
  {
   "cell_type": "markdown",
   "metadata": {},
   "source": [
    "<b> Currently, the dataframe you are using has the following column names: </b>\n",
    "\n",
    "[' State-gov', ' Bachelors', ' Never-married',\n",
    "       ' Adm-clerical', ' Not-in-family', ' White', ' Male', ' United-States', ' <=50K']\n",
    "       \n",
    "     \n",
    "<b> Q2. Please re-name all the newly filtered columns in the pandas DataFrame to the following: </b>\n",
    "\n",
    "Employment Type, Degree Status, Marriage-Status, Job-Role, Family-Role, Ethnicity, Gender, Country, Earnings\n",
    "\n",
    "E.g. State-Gov becomes Employment Type, Bachelors becomes Degree Status, etc."
   ]
  },
  {
   "cell_type": "markdown",
   "metadata": {},
   "source": [
    "<b> Put your code below </b>"
   ]
  },
  {
   "cell_type": "code",
   "execution_count": 6,
   "metadata": {},
   "outputs": [
    {
     "name": "stdout",
     "output_type": "stream",
     "text": [
      "<class 'pandas.core.frame.DataFrame'>\n",
      "Int64Index: 32560 entries, 50 to 52\n",
      "Data columns (total 9 columns):\n",
      " #   Column           Non-Null Count  Dtype \n",
      "---  ------           --------------  ----- \n",
      " 0   Employment_Type  32560 non-null  object\n",
      " 1   Degree_Status    32560 non-null  object\n",
      " 2   Marriage-Status  32560 non-null  object\n",
      " 3   Job_Role         32560 non-null  object\n",
      " 4   Ethnicity        32560 non-null  object\n",
      " 5   Gender           32560 non-null  object\n",
      " 6   Country          32560 non-null  object\n",
      " 7   Earnings         32560 non-null  object\n",
      " 8   Family-Role      32560 non-null  object\n",
      "dtypes: object(9)\n",
      "memory usage: 2.5+ MB\n",
      "None\n"
     ]
    }
   ],
   "source": [
    "df2.rename(columns={' State-gov': 'Employment_Type', ' Bachelors': 'Degree_Status',' Never-married':'Marriage-Status',' Adm-clerical':'Job_Role', ' White':'Ethnicity',' Male':'Gender', ' United-States': 'Country',' <=50K':'Earnings', ' Not-in-family':'Family-Role' }, inplace=True)\n",
    "print(df2.info())\n"
   ]
  },
  {
   "cell_type": "markdown",
   "metadata": {},
   "source": [
    "<b> Q3. The Job Role Columns holds the job information for each individual in this census snapshot. Using this column, create a Bar Chart that shows the count of 'Unique' Jobs per Job Group in the \"Job-Role\" Column in ascending order, as per the provided image below </b>\n"
   ]
  },
  {
   "cell_type": "markdown",
   "metadata": {},
   "source": [
    "<b> Put your code below </b>"
   ]
  },
  {
   "cell_type": "code",
   "execution_count": 7,
   "metadata": {},
   "outputs": [
    {
     "name": "stdout",
     "output_type": "stream",
     "text": [
      " Armed-Forces            9\n",
      " Priv-house-serv       149\n",
      " Protective-serv       649\n",
      " Tech-support          928\n",
      " Farming-fishing       994\n",
      " Handlers-cleaners    1370\n",
      " Transport-moving     1597\n",
      " ?                    1843\n",
      " Machine-op-inspct    2002\n",
      " Other-service        3295\n",
      " Sales                3650\n",
      " Adm-clerical         3769\n",
      " Exec-managerial      4066\n",
      " Craft-repair         4099\n",
      " Prof-specialty       4140\n",
      "Name: Job_Role, dtype: int64\n"
     ]
    },
    {
     "data": {
      "image/png": "[encoded data removed]",
      "text/plain": [
       "<Figure size 432x288 with 1 Axes>"
      ]
     },
     "metadata": {
      "needs_background": "light"
     },
     "output_type": "display_data"
    }
   ],
   "source": [
    "count_of_job_titles= df2['Job_Role'].value_counts().sort_values(ascending=True)\n",
    "print(count_of_job_titles)\n",
    "count_of_job_titles.plot(kind='bar', title= 'Count of job titles')\n",
    "plt.show()"
   ]
  },
  {
   "cell_type": "markdown",
   "metadata": {},
   "source": [
    "<b> Q4. Please create two bar plots as per below that show:\n",
    "    \n",
    "    1) The number of individuals who have a High School Graduate Diploma AND earn <=50K in the United States\n",
    "    2) The number of individuals who have a High School Graduate Diploma AND earn >50K in the United States \n",
    "\n",
    "Please note you will be looking specifically at the *Job Role* column"
   ]
  },
  {
   "cell_type": "markdown",
   "metadata": {},
   "source": [
    "<b> Put Your Code Below </b>"
   ]
  },
  {
   "cell_type": "code",
   "execution_count": 8,
   "metadata": {},
   "outputs": [
    {
     "name": "stdout",
     "output_type": "stream",
     "text": [
      " HS-grad         10501\n",
      " Some-college     7291\n",
      " Bachelors        5354\n",
      " Masters          1723\n",
      " Assoc-voc        1382\n",
      " 11th             1175\n",
      " Assoc-acdm       1067\n",
      " 10th              933\n",
      " 7th-8th           646\n",
      " Prof-school       576\n",
      " 9th               514\n",
      " 12th              433\n",
      " Doctorate         413\n",
      " 5th-6th           333\n",
      " 1st-4th           168\n",
      " Preschool          51\n",
      "Name: Degree_Status, dtype: int64\n",
      " <=50K    24719\n",
      " >50K      7841\n",
      "Name: Earnings, dtype: int64\n"
     ]
    }
   ],
   "source": [
    "\n",
    "school = df2['Degree_Status'].value_counts()\n",
    "print(school)\n",
    "earnings_count = df2['Earnings'].value_counts()\n",
    "print(earnings_count)"
   ]
  },
  {
   "cell_type": "code",
   "execution_count": 102,
   "metadata": {},
   "outputs": [
    {
     "data": {
      "image/png": "[encoded data removed]",
      "text/plain": [
       "<Figure size 432x288 with 1 Axes>"
      ]
     },
     "metadata": {
      "needs_background": "light"
     },
     "output_type": "display_data"
    },
    {
     "data": {
      "image/png": "[encoded data removed]",
      "text/plain": [
       "<Figure size 432x288 with 1 Axes>"
      ]
     },
     "metadata": {
      "needs_background": "light"
     },
     "output_type": "display_data"
    }
   ],
   "source": [
    "\n",
    "condition1=df2['Degree_Status']==' HS-grad'\n",
    "condition2=df2['Earnings']==' <=50K'\n",
    "condition3= df2[condition1&condition2]\n",
    "step_one=condition3['Job_Role'].value_counts()\n",
    "\n",
    "step_one.plot(kind='bar', title= 'Count of HS and less then 50k')\n",
    "plt.show()\n",
    "\n",
    "condition4=df2['Degree_Status']!=' HS-grad'\n",
    "condition5=df2['Earnings']==' >50K'\n",
    "condition6= df2[condition4&condition5]\n",
    "step_two=condition6['Job_Role'].value_counts()\n",
    "\n",
    "step_two.plot(kind='bar', title= 'Count of some college and up, above 50k')\n",
    "plt.show()\n"
   ]
  },
  {
   "cell_type": "markdown",
   "metadata": {},
   "source": [
    "\n"
   ]
  },
  {
   "cell_type": "markdown",
   "metadata": {},
   "source": [
    "<H2> Challenge Question </H2>\n",
    "\n",
    "<b> Q5. Which Job Role has the highest <i> proportion </i> of individuals who earn >50K? </b>"
   ]
  },
  {
   "cell_type": "markdown",
   "metadata": {},
   "source": [
    "<b> Put your code below </b>"
   ]
  },
  {
   "cell_type": "code",
   "execution_count": 21,
   "metadata": {},
   "outputs": [
    {
     "name": "stdout",
     "output_type": "stream",
     "text": [
      " Exec-managerial      0.250988\n",
      " Prof-specialty       0.237087\n",
      " Sales                0.125367\n",
      " Craft-repair         0.118480\n",
      " Adm-clerical         0.064660\n",
      " Transport-moving     0.040811\n",
      " Tech-support         0.036092\n",
      " Machine-op-inspct    0.031884\n",
      " Protective-serv      0.026910\n",
      " ?                    0.024359\n",
      " Other-service        0.017472\n",
      " Farming-fishing      0.014666\n",
      " Handlers-cleaners    0.010968\n",
      " Armed-Forces         0.000128\n",
      " Priv-house-serv      0.000128\n",
      "Name: Job_Role, dtype: float64\n"
     ]
    }
   ],
   "source": [
    "condition7=df2['Earnings']==' >50K'\n",
    "condition8=df2[condition7]\n",
    "step_three=condition8['Job_Role'].value_counts(normalize=True)\n",
    "print(step_three)"
   ]
  },
  {
   "cell_type": "code",
   "execution_count": null,
   "metadata": {},
   "outputs": [],
   "source": []
  }
 ],
 "metadata": {
  "kernelspec": {
   "display_name": "Python 3 (ipykernel)",
   "language": "python",
   "name": "python3"
  },
  "language_info": {
   "codemirror_mode": {
    "name": "ipython",
    "version": 3
   },
   "file_extension": ".py",
   "mimetype": "text/x-python",
   "name": "python",
   "nbconvert_exporter": "python",
   "pygments_lexer": "ipython3",
   "version": "3.9.12"
  }
 },
 "nbformat": 4,
 "nbformat_minor": 4
}
